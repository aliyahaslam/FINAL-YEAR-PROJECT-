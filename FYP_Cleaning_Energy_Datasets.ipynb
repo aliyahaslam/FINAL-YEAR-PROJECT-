{
  "nbformat": 4,
  "nbformat_minor": 0,
  "metadata": {
    "colab": {
      "provenance": [],
      "authorship_tag": "ABX9TyOtXijObFbGZM1awzlJZga+",
      "include_colab_link": true
    },
    "kernelspec": {
      "name": "python3",
      "display_name": "Python 3"
    },
    "language_info": {
      "name": "python"
    }
  },
  "cells": [
    {
      "cell_type": "markdown",
      "metadata": {
        "id": "view-in-github",
        "colab_type": "text"
      },
      "source": [
        "<a href=\"https://colab.research.google.com/github/aliyahaslam/FINAL-YEAR-PROJECT-/blob/main/FYP_Cleaning_Energy_Datasets.ipynb\" target=\"_parent\"><img src=\"https://colab.research.google.com/assets/colab-badge.svg\" alt=\"Open In Colab\"/></a>"
      ]
    },
    {
      "cell_type": "code",
      "execution_count": 1,
      "metadata": {
        "id": "yqQCJ1ORSzFB"
      },
      "outputs": [],
      "source": [
        "import pandas as pd"
      ]
    },
    {
      "cell_type": "code",
      "source": [
        "uk_2018 = pd.read_csv('/content/UK Clean 2018 Average Energy C.csv')"
      ],
      "metadata": {
        "id": "G60dLyTTnnks"
      },
      "execution_count": 2,
      "outputs": []
    },
    {
      "cell_type": "code",
      "source": [
        "uk_2019 = pd.read_csv('/content/UK Clean 2019 Average Energy C.csv')"
      ],
      "metadata": {
        "id": "rlsLtFuxn8yj"
      },
      "execution_count": 3,
      "outputs": []
    },
    {
      "cell_type": "code",
      "source": [
        "uk_2020 = pd.read_csv('/content/UK Clean 2020 Average Energy C.csv')"
      ],
      "metadata": {
        "id": "_TlbS4M1oBGM"
      },
      "execution_count": 4,
      "outputs": []
    },
    {
      "cell_type": "code",
      "source": [
        "uk_2021 = pd.read_csv('/content/UK Clean 2021 Average Energy C.csv')"
      ],
      "metadata": {
        "id": "-h0nshSJoF3P"
      },
      "execution_count": 5,
      "outputs": []
    },
    {
      "cell_type": "code",
      "source": [
        "uk_2022 = pd.read_csv('/content/UK Clean 2022 Average Energy C.csv')"
      ],
      "metadata": {
        "id": "VQG5pmZjoIBc"
      },
      "execution_count": 6,
      "outputs": []
    },
    {
      "cell_type": "code",
      "source": [
        "uk_2023 = pd.read_csv('/content/UK Clean 2023 Average Energy C.csv')"
      ],
      "metadata": {
        "id": "ko8kkZwgoKGf"
      },
      "execution_count": 7,
      "outputs": []
    },
    {
      "cell_type": "code",
      "source": [
        "uk_ECB = pd.read_csv('/content/UK Electricity CB Clean E3.csv')"
      ],
      "metadata": {
        "id": "XmnpRVLuoMuK"
      },
      "execution_count": 8,
      "outputs": []
    },
    {
      "cell_type": "code",
      "source": [
        "uk_ep = pd.read_csv('/content/UK Electricity Production Clean E3.csv')"
      ],
      "metadata": {
        "id": "cdyG5BRQoSI_"
      },
      "execution_count": 9,
      "outputs": []
    },
    {
      "cell_type": "code",
      "source": [
        "uk_PFA = pd.read_csv('/content/UK Production of Primary Fuels Clean.csv')"
      ],
      "metadata": {
        "id": "-rE8MUrnoZwi"
      },
      "execution_count": 10,
      "outputs": []
    },
    {
      "cell_type": "code",
      "source": [
        "uk_PFM = pd.read_csv('/content/UK Production of Primary Fuels Monthly Clean.csv')"
      ],
      "metadata": {
        "id": "tjkACwEAogpP"
      },
      "execution_count": 11,
      "outputs": []
    },
    {
      "cell_type": "code",
      "source": [
        "uk_PFQ = pd.read_csv('/content/UK Production of Primary Fuels Quartely  Clean.csv')"
      ],
      "metadata": {
        "id": "faSawRlfol01"
      },
      "execution_count": 12,
      "outputs": []
    },
    {
      "cell_type": "code",
      "source": [
        "usa_APO = pd.read_csv('/content/USA ANNUAL PRIMARY OVERVIEW .csv')"
      ],
      "metadata": {
        "id": "jM6qtq0topMO"
      },
      "execution_count": 13,
      "outputs": []
    },
    {
      "cell_type": "code",
      "source": [
        "usa_ecomp = pd.read_csv('/content/USA CLEAN COMPETETIVE SERVICE3.csv')"
      ],
      "metadata": {
        "id": "ZM--LHK9ov5d"
      },
      "execution_count": 14,
      "outputs": []
    }
  ]
}